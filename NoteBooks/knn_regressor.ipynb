{
 "cells": [
  {
   "cell_type": "markdown",
   "id": "b6fc4682",
   "metadata": {},
   "source": [
    "### Machine Learning Model 3 – KNN Regressor (valgfri model)\n",
    "\n",
    "Som en sidste model har vi valgt at inkludere **KNN Regressor** (K-Nearest Neighbors). Det er en simpel metode, som forudsiger en værdi baseret på gennemsnittet af de nærmeste naboer i datasættet.\n",
    "\n",
    "Modellen tager ikke højde for underliggende strukturer som beslutningstræer eller lineær sammenhæng, men kan være interessant at sammenligne, da den ofte fungerer godt i små og ikke-lineære datasæt.\n",
    "\n",
    "Vi anvender samme variable som tidligere:\n",
    "- `age_encoded`\n",
    "- `sex_numeric`\n",
    "- `gdp_per_capita ($)`\n"
   ]
  },
  {
   "cell_type": "code",
   "execution_count": 1,
   "id": "5dc67972",
   "metadata": {},
   "outputs": [],
   "source": [
    "import pandas as pd\n",
    "\n",
    "from sklearn.neighbors import KNeighborsRegressor\n",
    "\n",
    "from sklearn.model_selection import train_test_split\n",
    "from sklearn.metrics import (\n",
    "    r2_score,\n",
    "    mean_absolute_error,\n",
    "    mean_squared_error,\n",
    "    silhouette_score\n",
    ")"
   ]
  },
  {
   "cell_type": "code",
   "execution_count": 2,
   "id": "1802402c",
   "metadata": {},
   "outputs": [],
   "source": [
    "df_no_outliers = pd.read_csv(\"../cleaned_suicide_data.csv\")"
   ]
  },
  {
   "cell_type": "code",
   "execution_count": 3,
   "id": "c17a1bb3",
   "metadata": {},
   "outputs": [
    {
     "name": "stdout",
     "output_type": "stream",
     "text": [
      "KNN Regressor R²-score: 0.158\n",
      "KNN Regressor MAE: 6.71\n"
     ]
    }
   ],
   "source": [
    "# Vi bruger de samme data og split som tidligere\n",
    "X = df_no_outliers[[\"age_encoded\", \"sex_numeric\", \"gdp_per_capita ($)\"]]\n",
    "y = df_no_outliers[\"suicides/100k pop\"]\n",
    "X_train, X_test, y_train, y_test = train_test_split(X, y, test_size=0.25, random_state=42)\n",
    "\n",
    "# Vi opretter og træner en KNN-regressionsmodel (k=5)\n",
    "knn_model = KNeighborsRegressor(n_neighbors=5)\n",
    "knn_model.fit(X_train, y_train)\n",
    "\n",
    "# Vi laver forudsigelser på testdatasættet\n",
    "y_pred_knn = knn_model.predict(X_test)\n",
    "\n",
    "# Vi evaluerer modellen med R² og MAE (forklaringsevne og gennemsnitlig fejl)\n",
    "r2_knn = r2_score(y_test, y_pred_knn)\n",
    "mae_knn = mean_absolute_error(y_test, y_pred_knn)\n",
    "\n",
    "print(f\"KNN Regressor R²-score: {r2_knn:.3f}\")\n",
    "print(f\"KNN Regressor MAE: {mae_knn:.2f}\")\n",
    "\n"
   ]
  },
  {
   "cell_type": "markdown",
   "id": "405e34f9",
   "metadata": {},
   "source": [
    "### Konklusion – KNN Regressor\n",
    "\n",
    "KNN-modellen opnåede en R²-score på **0.158** og en MAE på **6.71**. Det viser, at modellen kun forklarer ca. **15.8 % af variationen** i selvmordsraten, og den gennemsnitlige fejl er desuden højere end for både beslutningstræet og Random Forest.\n",
    "\n",
    "Selvom modellen er simpel og nem at forstå, tyder resultaterne på, at KNN ikke er særligt velegnet til dette datasæt. Det skyldes sandsynligvis, at selvmordsraten påvirkes af mere komplekse mønstre, som KNN ikke fanger ved blot at kigge på nærmeste naboer.\n",
    "\n",
    "Vi inkluderede modellen for at have en simpel baseline til sammenligning, og det har givet os en bedre forståelse af, hvorfor mere avancerede modeller som Random Forest giver bedre resultater i dette projekt.\n"
   ]
  }
 ],
 "metadata": {
  "kernelspec": {
   "display_name": "base",
   "language": "python",
   "name": "python3"
  },
  "language_info": {
   "codemirror_mode": {
    "name": "ipython",
    "version": 3
   },
   "file_extension": ".py",
   "mimetype": "text/x-python",
   "name": "python",
   "nbconvert_exporter": "python",
   "pygments_lexer": "ipython3",
   "version": "3.12.7"
  }
 },
 "nbformat": 4,
 "nbformat_minor": 5
}
